{
 "cells": [
  {
   "cell_type": "code",
   "execution_count": 1,
   "metadata": {},
   "outputs": [],
   "source": [
    "import logging\n",
    "import urllib\n",
    "from sqlalchemy import create_engine\n",
    "from sqlalchemy.sql import text\n",
    "import pymssql\n",
    "import pandas as pd\n",
    "from datetime import datetime, timedelta\n",
    "from jinja2 import Template\n",
    "\n",
    "server = '192.168.149.10'\n",
    "user = 'sa'\n",
    "password = 'Hkhnhan1994'\n",
    "database = 'example1'\n",
    "port=1433\n",
    "charset='utf8'\n",
    "\n",
    "conn = pymssql.connect(server = server, user = 'sa', password = password,port=port, database = database)\n"
   ]
  },
  {
   "cell_type": "code",
   "execution_count": 2,
   "metadata": {},
   "outputs": [],
   "source": [
    "query=\"\"\"SELECT TABLE_NAME \\\n",
    "    FROM {db}.INFORMATION_SCHEMA.TABLES \\\n",
    "    WHERE TABLE_TYPE = 'BASE TABLE'\"\"\""
   ]
  },
  {
   "cell_type": "code",
   "execution_count": null,
   "metadata": {},
   "outputs": [],
   "source": [
    "\"SELECT \\\n",
    "                column_name, data_type \\\n",
    "                FROM INFORMATION_SCHEMA.COLUMNS \\\n",
    "                WHERE table_schema = :table_schema AND table_name = :table_name\""
   ]
  },
  {
   "cell_type": "code",
   "execution_count": 4,
   "metadata": {},
   "outputs": [
    {
     "ename": "OperationalError",
     "evalue": "(20047, b'DB-Lib error message 20047, severity 9:\\nDBPROCESS is dead or not enabled\\n')",
     "output_type": "error",
     "traceback": [
      "\u001b[0;31m---------------------------------------------------------------------------\u001b[0m",
      "\u001b[0;31mMSSQLDatabaseException\u001b[0m                    Traceback (most recent call last)",
      "File \u001b[0;32msrc/pymssql/_pymssql.pyx:458\u001b[0m, in \u001b[0;36mpymssql._pymssql.Cursor.execute\u001b[0;34m()\u001b[0m\n",
      "File \u001b[0;32msrc/pymssql/_mssql.pyx:1086\u001b[0m, in \u001b[0;36mpymssql._mssql.MSSQLConnection.execute_query\u001b[0;34m()\u001b[0m\n",
      "File \u001b[0;32msrc/pymssql/_mssql.pyx:1117\u001b[0m, in \u001b[0;36mpymssql._mssql.MSSQLConnection.execute_query\u001b[0;34m()\u001b[0m\n",
      "File \u001b[0;32msrc/pymssql/_mssql.pyx:1250\u001b[0m, in \u001b[0;36mpymssql._mssql.MSSQLConnection.format_and_run_query\u001b[0;34m()\u001b[0m\n",
      "File \u001b[0;32msrc/pymssql/_mssql.pyx:1788\u001b[0m, in \u001b[0;36mpymssql._mssql.check_cancel_and_raise\u001b[0;34m()\u001b[0m\n",
      "File \u001b[0;32msrc/pymssql/_mssql.pyx:1834\u001b[0m, in \u001b[0;36mpymssql._mssql.raise_MSSQLDatabaseException\u001b[0;34m()\u001b[0m\n",
      "\u001b[0;31mMSSQLDatabaseException\u001b[0m: (20047, b'DB-Lib error message 20047, severity 9:\\nDBPROCESS is dead or not enabled\\n')",
      "\nDuring handling of the above exception, another exception occurred:\n",
      "\u001b[0;31mOperationalError\u001b[0m                          Traceback (most recent call last)",
      "Cell \u001b[0;32mIn [4], line 2\u001b[0m\n\u001b[1;32m      1\u001b[0m cursor\u001b[38;5;241m=\u001b[39mconn\u001b[38;5;241m.\u001b[39mcursor()\n\u001b[0;32m----> 2\u001b[0m \u001b[43mcursor\u001b[49m\u001b[38;5;241;43m.\u001b[39;49m\u001b[43mexecute\u001b[49m\u001b[43m(\u001b[49m\u001b[43mquery\u001b[49m\u001b[38;5;241;43m.\u001b[39;49m\u001b[43mformat\u001b[49m\u001b[43m(\u001b[49m\u001b[43mdb\u001b[49m\u001b[38;5;241;43m=\u001b[39;49m\u001b[38;5;124;43m\"\u001b[39;49m\u001b[38;5;124;43mexample1\u001b[39;49m\u001b[38;5;124;43m\"\u001b[39;49m\u001b[43m)\u001b[49m\u001b[43m)\u001b[49m\n\u001b[1;32m      3\u001b[0m tables \u001b[38;5;241m=\u001b[39m cursor\u001b[38;5;241m.\u001b[39mfetchall()\n\u001b[1;32m      4\u001b[0m tables \u001b[38;5;241m=\u001b[39m [table[\u001b[38;5;241m0\u001b[39m] \u001b[38;5;28;01mfor\u001b[39;00m table \u001b[38;5;129;01min\u001b[39;00m tables]\n",
      "File \u001b[0;32msrc/pymssql/_pymssql.pyx:478\u001b[0m, in \u001b[0;36mpymssql._pymssql.Cursor.execute\u001b[0;34m()\u001b[0m\n",
      "\u001b[0;31mOperationalError\u001b[0m: (20047, b'DB-Lib error message 20047, severity 9:\\nDBPROCESS is dead or not enabled\\n')"
     ]
    }
   ],
   "source": [
    "cursor=conn.cursor()\n",
    "cursor.execute(query.format(db=\"example1\"))\n",
    "tables = cursor.fetchall()\n",
    "tables = [table[0] for table in tables]\n",
    "print(tables)\n",
    "cursor.close()\n",
    "conn.commit()"
   ]
  },
  {
   "cell_type": "code",
   "execution_count": 6,
   "metadata": {},
   "outputs": [],
   "source": [
    "connectionString = (\n",
    "            \"mssql+pymssql://{user}:{password}@{hostname}:{port}/{db}?charset={charset}\".format(\n",
    "                user=user,\n",
    "                password=password,\n",
    "                hostname=server,\n",
    "                db=database,\n",
    "                port=port,\n",
    "                charset=charset\n",
    "            )\n",
    "        )\n",
    "engine = create_engine(connectionString)"
   ]
  },
  {
   "cell_type": "code",
   "execution_count": 9,
   "metadata": {},
   "outputs": [
    {
     "name": "stdout",
     "output_type": "stream",
     "text": [
      "[{'column_name': 'empno', 'data_type': 'int'}, {'column_name': 'ename', 'data_type': 'varchar'}, {'column_name': 'job', 'data_type': 'varchar'}, {'column_name': 'mgr', 'data_type': 'int'}, {'column_name': 'hiredate', 'data_type': 'datetime'}, {'column_name': 'sal', 'data_type': 'numeric'}, {'column_name': 'comm', 'data_type': 'numeric'}, {'column_name': 'dept', 'data_type': 'int'}]\n"
     ]
    }
   ],
   "source": [
    "sql_fetch = \"SELECT \\\n",
    "            column_name, data_type \\\n",
    "            FROM  {db}.INFORMATION_SCHEMA.COLUMNS \\\n",
    "            WHERE table_name = '{table_name}'\"\n",
    "\n",
    "con = engine.connect()\n",
    "schema = con.execute(\n",
    "sql_fetch.format(db=\"example1\",table_name=\"emp\")\n",
    ").all()\n",
    "schema = [dict(row) for row in schema]\n",
    "print(schema)"
   ]
  }
 ],
 "metadata": {
  "kernelspec": {
   "display_name": "Python 3.10.4 ('test_dev_env': venv)",
   "language": "python",
   "name": "python3"
  },
  "language_info": {
   "codemirror_mode": {
    "name": "ipython",
    "version": 3
   },
   "file_extension": ".py",
   "mimetype": "text/x-python",
   "name": "python",
   "nbconvert_exporter": "python",
   "pygments_lexer": "ipython3",
   "version": "3.10.4"
  },
  "orig_nbformat": 4,
  "vscode": {
   "interpreter": {
    "hash": "2c96f54439c6e0f377fa8412741556d365c8ff8dfde51eaa52a01162151b1728"
   }
  }
 },
 "nbformat": 4,
 "nbformat_minor": 2
}
