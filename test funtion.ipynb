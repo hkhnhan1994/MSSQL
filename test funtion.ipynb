{
 "cells": [
  {
   "cell_type": "code",
   "execution_count": 2,
   "metadata": {},
   "outputs": [],
   "source": [
    "import logging\n",
    "import urllib\n",
    "from sqlalchemy import create_engine\n",
    "from sqlalchemy.sql import text\n",
    "import pymssql\n",
    "import pandas as pd\n",
    "from datetime import datetime, timedelta\n",
    "from jinja2 import Template\n",
    "\n",
    "server = '192.168.149.10'\n",
    "user = 'sa'\n",
    "password = 'Hkhnhan1994'\n",
    "database = 'example1'\n",
    "port=1433\n",
    "charset='utf8'\n",
    "\n",
    "conn = pymssql.connect(server = server, user = 'sa', password = password,port=port, database = database)\n"
   ]
  },
  {
   "cell_type": "code",
   "execution_count": 3,
   "metadata": {},
   "outputs": [],
   "source": [
    "query=\"\"\"SELECT TABLE_NAME \\\n",
    "    FROM {db}.INFORMATION_SCHEMA.TABLES \\\n",
    "    WHERE TABLE_TYPE = 'BASE TABLE'\"\"\""
   ]
  },
  {
   "cell_type": "code",
   "execution_count": 5,
   "metadata": {},
   "outputs": [
    {
     "name": "stdout",
     "output_type": "stream",
     "text": [
      "['emp', 'dept']\n"
     ]
    }
   ],
   "source": [
    "cursor=conn.cursor()\n",
    "cursor.execute(query.format(db=\"example1\"))\n",
    "tables = cursor.fetchall()\n",
    "tables = [table[0] for table in tables]\n",
    "print(tables)\n",
    "cursor.close()\n",
    "conn.commit()"
   ]
  },
  {
   "cell_type": "code",
   "execution_count": 6,
   "metadata": {},
   "outputs": [],
   "source": [
    "connectionString = (\n",
    "            \"mssql+pymssql://{user}:{password}@{hostname}:{port}/{db}?charset={charset}\".format(\n",
    "                user=user,\n",
    "                password=password,\n",
    "                hostname=server,\n",
    "                db=database,\n",
    "                port=port,\n",
    "                charset=charset\n",
    "            )\n",
    "        )\n",
    "engine = create_engine(connectionString)"
   ]
  },
  {
   "cell_type": "code",
   "execution_count": 9,
   "metadata": {},
   "outputs": [
    {
     "name": "stdout",
     "output_type": "stream",
     "text": [
      "[{'column_name': 'empno', 'data_type': 'int'}, {'column_name': 'ename', 'data_type': 'varchar'}, {'column_name': 'job', 'data_type': 'varchar'}, {'column_name': 'mgr', 'data_type': 'int'}, {'column_name': 'hiredate', 'data_type': 'datetime'}, {'column_name': 'sal', 'data_type': 'numeric'}, {'column_name': 'comm', 'data_type': 'numeric'}, {'column_name': 'dept', 'data_type': 'int'}]\n"
     ]
    }
   ],
   "source": [
    "sql_fetch = \"SELECT \\\n",
    "            column_name, data_type \\\n",
    "            FROM  {db}.INFORMATION_SCHEMA.COLUMNS \\\n",
    "            WHERE table_name = '{table_name}'\"\n",
    "\n",
    "con = engine.connect()\n",
    "schema = con.execute(\n",
    "sql_fetch.format(db=\"example1\",table_name=\"emp\")\n",
    ").all()\n",
    "schema = [dict(row) for row in schema]\n",
    "print(schema)"
   ]
  }
 ],
 "metadata": {
  "kernelspec": {
   "display_name": "Python 3.10.4 ('test_dev_env': venv)",
   "language": "python",
   "name": "python3"
  },
  "language_info": {
   "codemirror_mode": {
    "name": "ipython",
    "version": 3
   },
   "file_extension": ".py",
   "mimetype": "text/x-python",
   "name": "python",
   "nbconvert_exporter": "python",
   "pygments_lexer": "ipython3",
   "version": "3.10.4"
  },
  "orig_nbformat": 4,
  "vscode": {
   "interpreter": {
    "hash": "2c96f54439c6e0f377fa8412741556d365c8ff8dfde51eaa52a01162151b1728"
   }
  }
 },
 "nbformat": 4,
 "nbformat_minor": 2
}
